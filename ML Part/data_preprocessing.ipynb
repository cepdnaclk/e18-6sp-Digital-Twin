{
  "cells": [
    {
      "cell_type": "code",

      "execution_count": 154,

      "metadata": {
        "colab": {
          "base_uri": "https://localhost:8080/",
          "height": 206
        },
        "id": "ZPI0oe6BqLDF",
        "outputId": "5252059f-5c14-4331-f6fc-6ff1e429738d"
      },

      "outputs": [],


      "source": [
        "import requests\n",
        "import pandas as pd\n",
        "\n",
        "base_url = \"http://agbc-fe.pdn.ac.lk/api/v1/data/?sensor=10008&date=\"\n",
        "\n",
        "start_date = pd.to_datetime(\"2020-10-17\")\n",
        "end_date = pd.to_datetime(\"2020-10-30\")\n",
        "\n",
        "date_range = pd.date_range(start=start_date, end=end_date, freq=\"D\")\n",
        "\n",
        "all_data = []\n",
        "\n",
        "for date in date_range:\n",
        "    date_str = date.strftime(\"%Y-%m-%d\")\n",
        "    url = base_url + date_str\n",
        "    response = requests.get(url)\n",
        "    data = response.json()\n",
        "    all_data.extend(data['data'])\n",
        "\n",
        "df = pd.DataFrame(all_data, dtype=str)\n"
      ]
    },
    {
      "cell_type": "code",

      "execution_count": 141,

      "metadata": {
        "colab": {
          "base_uri": "https://localhost:8080/"
        },
        "id": "CXMbj9kvrn1H",
        "outputId": "56c43792-dfe6-4cc4-9654-1b01d336140f"
      },
      "outputs": [
        {
          "name": "stdout",
          "output_type": "stream",
          "text": [
            "siteId       0\n",
            "seqNo        0\n",
            "date         0\n",
            "time         0\n",
            "temp1        0\n",
            "temp2        0\n",
            "temp3        0\n",
            "humidity1    0\n",
            "humidity2    0\n",
            "humidity3    0\n",
            "light        0\n",
            "dtype: int64\n"
          ]
        }
      ],
      "source": [
        "# check for missing values\n",
        "print(df.isnull().sum())"
      ]
    },
    {
      "cell_type": "code",

      "execution_count": 142,

      "metadata": {
        "id": "zBhqM74Brs51"
      },
      "outputs": [],
      "source": [
        "# drop rows with missing values\n",
        "df.dropna(inplace=True)"
      ]
    },
    {
      "cell_type": "code",

      "execution_count": 143,

      "metadata": {
        "id": "joYskXyPrzA8"
      },
      "outputs": [],
      "source": [
        "# Drop duplicate rows\n",
        "df=df.drop_duplicates(keep='first')"
      ]
    },
    {
      "cell_type": "code",

      "execution_count": 157,

      "metadata": {
        "colab": {
          "base_uri": "https://localhost:8080/",
          "height": 206
        },
        "id": "gEd3DbvksApo",
        "outputId": "a1a4440a-e2ab-4d00-9060-73107b549e57"
      },

      "outputs": [],

      "source": [
        "import numpy as np\n",
        "# Replace '?' with NaN\n",
        "\n",
        "df.replace(' ?', np.nan, inplace=True)\n",
        "# Drop rows containing missing values\n",
        "# Replace the missing values with NaN\n",
        "df = df.fillna(np.nan)\n",
        "# Drop rows containing missing values\n",
        "# Replace the missing values with NaN\n",
        "\n",
        "#df = df.replace(['?', 'NA', 'N/A', 'None'],0)\n",
        "\n",
        "\n"
      ]
    },
    {
      "cell_type": "code",

      "execution_count": 158,

      "metadata": {
        "colab": {
          "base_uri": "https://localhost:8080/",
          "height": 206
        },
        "id": "xMtknm7U08g1",
        "outputId": "69988c3e-01f9-4285-c9dc-a8fce8e5b36b"
      },

      "outputs": [],

      "source": [
        "# Drop rows containing missing values\n",
        "df = df.dropna()\n"
      ]
    },
    {
      "cell_type": "code",

      "execution_count": 155,

      "metadata": {
        "colab": {
          "base_uri": "https://localhost:8080/"
        },
        "id": "y3DnDwFzcrdM",
        "outputId": "93ea969a-939d-4c10-b47b-35828d743a44"
      },
      "outputs": [],
      "source": [
        "# Convert temperature columns to numeric\n",
        "df['temp1'] = pd.to_numeric(df['temp1'], errors='coerce')\n",
        "df['temp2'] = pd.to_numeric(df['temp2'], errors='coerce')\n",
        "df['temp3'] = pd.to_numeric(df['temp3'], errors='coerce')\n",
        "\n",
        "# Convert temperature columns to numeric\n",
        "df['humidity1'] = pd.to_numeric(df['humidity1'], errors='coerce')\n",
        "df['humidity2'] = pd.to_numeric(df['humidity2'], errors='coerce')\n",
        "df['humidity3'] = pd.to_numeric(df['humidity3'], errors='coerce')\n",
        "\n",
        "df['seqNo'] = pd.to_numeric(df['seqNo'], errors='coerce')\n",
        "\n",
        "# Calculate the average temperature\n",
        "df['average_temp'] = df[['temp1', 'temp2', 'temp3']].mean(axis=1)\n",
        "\n",
        "# Calculate the average humidity\n",
        "df['average_humidity'] = df[['humidity1', 'humidity2', 'humidity3']].mean(axis=1)\n",
        "\n",
        "# Create a new DataFrame with only the desired columns\n",
        "new_df = df[['seqNo','date','time','average_temp', 'average_humidity', 'light']]\n",
        "\n",
        "# Print the selected columns\n"
      ]
    },
    {
      "cell_type": "code",

      "execution_count": 156,

      "metadata": {},
      "outputs": [],
      "source": [
        "new_rows = []  # List to store the combined rows\n",
        "x=0\n",
        "count=0\n",
        "average_temp = 0\n",
        "average_humidity = 0\n",
        "light = 0\n",
        "n=6\n",
        "rowcount=0\n",
        "for index, row in df.iterrows():\n",
        "    # Access the values of each column in the current row\n",
        "    time1 = row['time']\n",
        "\n",
        "    sliced_text = time1[4:6]  #sliced the time xx:yy:xx\n",
        "  \n",
        "    \n",
        "    if(sliced_text==\"00\"): #if yy==00\n",
        "        sliced_text1 = time1[1:6] # get front slice xx:xx:\n",
        "        if(n>23):\n",
        "            n=0\n",
        "            \n",
        "        \n",
        "            \n",
        "    \n",
        "        if(n <= 9 and sliced_text1 == \"0\" + str(n) + \":00\" ):\n",
        "            \n",
        "        \n",
        "         # Access the values of the current row\n",
        "            date = row['date']\n",
        "            time = row['time']\n",
        "            average_temp = row['average_temp']+average_temp\n",
        "            average_humidity = row['average_humidity']+average_humidity\n",
        "            x=row['seqNo']\n",
        "            count=count+1\n",
        "\n",
        "\n",
        "        elif( sliced_text1 == str(n) + \":00\" ):\n",
        "            \n",
        "            \n",
        "            \n",
        "         # Access the values of the current row\n",
        "            date = row['date']\n",
        "            time = row['time']\n",
        "            average_temp = row['average_temp']+average_temp\n",
        "            average_humidity = row['average_humidity']+average_humidity\n",
        "            x=row['seqNo']\n",
        "            count=count+1\n",
        "            \n",
        "       \n",
        "        \n",
        "        \n",
        "\n",
        "\n",
        "\n",
        "        \n",
        "\n",
        "\n",
        "        \n",
        "        else:\n",
        "            if (count==0 ):\n",
        "\n",
        "                count=1\n",
        "       \n",
        "            \n",
        "            new_row = {\n",
        "            'date': date,\n",
        "            'time': time,\n",
        "            'average_temp': average_temp/count ,\n",
        "            'average_humidity': average_humidity/count ,\n",
        "             }\n",
        "            #print(new_row)\n",
        "            new_rows.append(new_row)\n",
        "            \n",
        "            count=1\n",
        "            n=n+1\n",
        "            \n",
        "    \n",
        "            \n",
        "            \n",
        "            \n",
        "            date = row['date']\n",
        "            time = row['time']\n",
        "            average_temp = row['average_temp']\n",
        "            average_humidity = row['average_humidity']\n",
        "\n",
        "new_row = {\n",
        "            'date': date,\n",
        "            'time': time,\n",
        "            'average_temp': average_temp/count ,\n",
        "            'average_humidity': average_humidity/count ,\n",
        "             }\n",
        "new_rows.append(new_row)\n",
        "new_df1 = pd.DataFrame(new_rows)\n",

        "\n",
        "\n",
        "\n",
        "\n",
        "        \n",
        "            \n",
        "\n",
        " \n",
        "       \n",
        "    \n",
        "        \n"
      ]
    },
    {
      "cell_type": "code",
      "execution_count": null,
      "metadata": {},
      "outputs": [],
      "source": [
        "\n"
      ]
    },
    {
      "attachments": {},
      "cell_type": "markdown",
      "metadata": {
        "id": "0uRNR2qPplp2"
      },
      "source": [
        "from datetime import datetime\n",
        "\n",
        "start_date = \"2022-10-18\"\n",
        "start_datetime = datetime.strptime(start_date, \"%Y-%m-%d\")\n",
        "start_unix_time = int(start_datetime.timestamp())"
      ]
    },
    {
      "cell_type": "code",

      "execution_count": 148,

      "metadata": {
        "id": "6atiuwjfpmv4"
      },
      "outputs": [
        {
          "name": "stdout",
          "output_type": "stream",
          "text": [
            "1666031400\n"
          ]
        }
      ],
      "source": [
        "from datetime import datetime\n",
        "\n",
        "start_date = \"2022-10-18\"\n",
        "start_datetime = datetime.strptime(start_date, \"%Y-%m-%d\")\n",
        "start_unix_time = int(start_datetime.timestamp())\n",
        "print(start_unix_time)"
      ]
    },
    {
      "cell_type": "code",

      "execution_count": 149,

      "metadata": {
        "id": "-H_FRXAppwyz"
      },
      "outputs": [
        {
          "name": "stdout",
          "output_type": "stream",
          "text": [
            "1666117800\n"
          ]
        }
      ],
      "source": [
        "from datetime import datetime\n",
        "\n",
        "end_date = \"2022-10-19\"\n",
        "end_datetime = datetime.strptime(end_date, \"%Y-%m-%d\")\n",
        "end_unix_time = int(end_datetime.timestamp())\n",
        "print(end_unix_time)"
      ]
    }
  ],
  "metadata": {
    "colab": {
      "provenance": []
    },
    "interpreter": {
      "hash": "ed69033dcf95bf03c49614e5fe4e96f21774bed12a1dae221247a7de4d30fa71"
    },
    "kernelspec": {
      "display_name": "Python 3.10.11 ('base')",
      "language": "python",
      "name": "python3"
    },
    "language_info": {
      "codemirror_mode": {
        "name": "ipython",
        "version": 3
      },
      "file_extension": ".py",
      "mimetype": "text/x-python",
      "name": "python",
      "nbconvert_exporter": "python",
      "pygments_lexer": "ipython3",
      "version": "3.7.16"
    }
  },
  "nbformat": 4,
  "nbformat_minor": 0
}
